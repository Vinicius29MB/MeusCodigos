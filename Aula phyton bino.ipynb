{
 "cells": [
  {
   "cell_type": "code",
   "execution_count": 5,
   "metadata": {},
   "outputs": [
    {
     "name": "stdout",
     "output_type": "stream",
     "text": [
      "Requirement already satisfied: requests in c:\\users\\vinic\\appdata\\local\\programs\\python\\python312\\lib\\site-packages (2.32.3)\n",
      "Requirement already satisfied: charset-normalizer<4,>=2 in c:\\users\\vinic\\appdata\\local\\programs\\python\\python312\\lib\\site-packages (from requests) (3.3.2)\n",
      "Requirement already satisfied: idna<4,>=2.5 in c:\\users\\vinic\\appdata\\local\\programs\\python\\python312\\lib\\site-packages (from requests) (3.7)\n",
      "Requirement already satisfied: urllib3<3,>=1.21.1 in c:\\users\\vinic\\appdata\\local\\programs\\python\\python312\\lib\\site-packages (from requests) (2.2.2)\n",
      "Requirement already satisfied: certifi>=2017.4.17 in c:\\users\\vinic\\appdata\\local\\programs\\python\\python312\\lib\\site-packages (from requests) (2024.6.2)\n",
      "Note: you may need to restart the kernel to use updated packages.\n"
     ]
    },
    {
     "name": "stderr",
     "output_type": "stream",
     "text": [
      "\n",
      "[notice] A new release of pip is available: 23.2.1 -> 24.1\n",
      "[notice] To update, run: python.exe -m pip install --upgrade pip\n"
     ]
    }
   ],
   "source": [
    "pip install requests "
   ]
  },
  {
   "cell_type": "code",
   "execution_count": 6,
   "metadata": {},
   "outputs": [
    {
     "name": "stdout",
     "output_type": "stream",
     "text": [
      "Primeiras linhas da Tabela 1:\n",
      "       ispb                        name   code  \\\n",
      "0  00000000          BCO DO BRASIL S.A.    1.0   \n",
      "1  00000208  BRB - BCO DE BRASILIA S.A.   70.0   \n",
      "2  00038121                       Selic    NaN   \n",
      "3  00038166                       Bacen    NaN   \n",
      "4  00122327       SANTINVEST S.A. - CFI  539.0   \n",
      "\n",
      "                                            fullName  \n",
      "0                               Banco do Brasil S.A.  \n",
      "1                       BRB - BANCO DE BRASILIA S.A.  \n",
      "2                    Banco Central do Brasil - Selic  \n",
      "3                            Banco Central do Brasil  \n",
      "4  SANTINVEST S.A. - CREDITO, FINANCIAMENTO E INV...  \n",
      "\n",
      "Primeiras linhas da Tabela 2:\n",
      "       ispb                        name   code  \\\n",
      "0  00000000          BCO DO BRASIL S.A.    1.0   \n",
      "1  00000208  BRB - BCO DE BRASILIA S.A.   70.0   \n",
      "2  00038121                       Selic    NaN   \n",
      "3  00038166                       Bacen    NaN   \n",
      "4  00122327       SANTINVEST S.A. - CFI  539.0   \n",
      "\n",
      "                                            fullName  \n",
      "0                               Banco do Brasil S.A.  \n",
      "1                       BRB - BANCO DE BRASILIA S.A.  \n",
      "2                    Banco Central do Brasil - Selic  \n",
      "3                            Banco Central do Brasil  \n",
      "4  SANTINVEST S.A. - CREDITO, FINANCIAMENTO E INV...  \n",
      "\n",
      "Primeiras linhas da Tabela 3:\n",
      "       ispb                        name   code  \\\n",
      "0  00000000          BCO DO BRASIL S.A.    1.0   \n",
      "1  00000208  BRB - BCO DE BRASILIA S.A.   70.0   \n",
      "2  00038121                       Selic    NaN   \n",
      "3  00038166                       Bacen    NaN   \n",
      "4  00122327       SANTINVEST S.A. - CFI  539.0   \n",
      "\n",
      "                                            fullName  \n",
      "0                               Banco do Brasil S.A.  \n",
      "1                       BRB - BANCO DE BRASILIA S.A.  \n",
      "2                    Banco Central do Brasil - Selic  \n",
      "3                            Banco Central do Brasil  \n",
      "4  SANTINVEST S.A. - CREDITO, FINANCIAMENTO E INV...  \n"
     ]
    }
   ],
   "source": [
    "\n",
    "import requests\n",
    "import pandas as pd\n",
    "import tkinter as tk\n",
    "from tkinter import messagebox\n",
    "\n",
    "def alerta(mensagem):\n",
    "    root = tk.Tk()\n",
    "    root.withdraw()\n",
    "    messagebox.showerror(\"Erro\", mensagem)\n",
    "    root.destroy()\n",
    "\n",
    "def obter_dados_da_api(url):\n",
    "    response = requests.get(url)\n",
    "    if response.status_code == 200:\n",
    "        return response.json()\n",
    "    else:\n",
    "        print(f\"Erro ao obter dados da API. Código de status: {response.status_code}\")\n",
    "        return None\n",
    "\n",
    "url_tabela1 = \"https://brasilapi.com.br/api/banks/v1\"\n",
    "url_tabela2 = \"https://brasilapi.com.br/api/banks/v1\"\n",
    "url_tabela3 = \"https://brasilapi.com.br/api/banks/v1\"\n",
    "\n",
    "dados_tabela1 = obter_dados_da_api(url_tabela1)\n",
    "dados_tabela2 = obter_dados_da_api(url_tabela2)\n",
    "dados_tabela3 = obter_dados_da_api(url_tabela3)\n",
    "\n",
    "if dados_tabela1 and dados_tabela2 and dados_tabela3:\n",
    "    df_tabela1 = pd.DataFrame(dados_tabela1)\n",
    "    df_tabela2 = pd.DataFrame(dados_tabela2)\n",
    "    df_tabela3 = pd.DataFrame(dados_tabela3)\n",
    "\n",
    "    print(\"Primeiras linhas da Tabela 1:\")\n",
    "    print(df_tabela1.head())\n",
    "\n",
    "    print(\"\\nPrimeiras linhas da Tabela 2:\")\n",
    "    print(df_tabela2.head())\n",
    "\n",
    "    print(\"\\nPrimeiras linhas da Tabela 3:\")\n",
    "    print(df_tabela3.head())\n",
    "\n",
    "else:\n",
    "    alerta(\"Não foi possível obter dados de todas as tabelas da API.\")"
   ]
  }
 ],
 "metadata": {
  "kernelspec": {
   "display_name": "Python 3",
   "language": "python",
   "name": "python3"
  },
  "language_info": {
   "codemirror_mode": {
    "name": "ipython",
    "version": 3
   },
   "file_extension": ".py",
   "mimetype": "text/x-python",
   "name": "python",
   "nbconvert_exporter": "python",
   "pygments_lexer": "ipython3",
   "version": "3.12.1"
  }
 },
 "nbformat": 4,
 "nbformat_minor": 2
}
